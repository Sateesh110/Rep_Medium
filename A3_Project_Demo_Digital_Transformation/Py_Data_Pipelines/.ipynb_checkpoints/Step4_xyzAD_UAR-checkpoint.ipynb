{
 "cells": [
  {
   "cell_type": "markdown",
   "metadata": {},
   "source": [
    "# XYZ's IT User Access Review Step 4: Generate Analytical Reports & PowerBI datasets"
   ]
  },
  {
   "cell_type": "markdown",
   "metadata": {},
   "source": [
    "###### Author : Sateesh Babu\n",
    "###### Version: V3\n",
    "###### Created: 2021-12-23\n",
    "###### Updated: 2021-12-30"
   ]
  },
  {
   "cell_type": "markdown",
   "metadata": {},
   "source": [
    "# Input"
   ]
  },
  {
   "cell_type": "code",
   "execution_count": 1,
   "metadata": {},
   "outputs": [],
   "source": [
    "# Date when you want to generate the reports for give xyz IT AD snapshot\n",
    "run_date = '20211230'"
   ]
  },
  {
   "cell_type": "code",
   "execution_count": 2,
   "metadata": {},
   "outputs": [],
   "source": [
    "# Source data file path\n",
    "# 1.HR data; 2.xyz IT AD ; 3.Control file: xyz IT AD departments list; 4.Control file: xyz IT AD Group list\n",
    "\n",
    "source_filepath1 = r\"C:\\Users\\SATEESHB\\OneDrive - Metrolinx\\documents\\zMyWork\\05_PowerBI_PythonCode\\00_Py_UserAccess\\Source_Data\\IT_AD\"\n",
    "source_filepath2 = r\"C:\\Users\\SATEESHB\\OneDrive - Metrolinx\\documents\\zMyWork\\05_PowerBI_PythonCode\\00_Py_UserAccess\\Results_Data\\Step1_Results_HR\"\n",
    "source_filepath3 = r\"C:\\Users\\SATEESHB\\OneDrive - Metrolinx\\documents\\zMyWork\\05_PowerBI_PythonCode\\00_Py_UserAccess\\Source_Data\\Control_Files\"\n",
    "source_filepath4 = r\"C:\\Users\\SATEESHB\\OneDrive - Metrolinx\\documents\\zMyWork\\05_PowerBI_PythonCode\\00_Py_UserAccess\\Results_Data\\Step2_Results_AD_Master\"\n",
    "\n",
    "source_ad_file              = source_filepath1 + f\"\\IT_AD_XYZ_Users_{run_date}.xlsx\"\n",
    "source_hr_file              = source_filepath2 + f\"\\df_final_hr_dataset_{run_date}.xlsx\" \n",
    "source_ad_ctrl_dept_file  = source_filepath3 + f\"\\AD_Ctrl_Departments.xlsx\"\n",
    "source_ad_ctrl_grps_file  = source_filepath3 + f\"\\AD_Ctrl_XYZ_Groups.xlsx\"\n",
    "source_ad_userassign_file   = source_filepath4 + f\"\\output_ad_user_group_assignments_{run_date}.xlsx\""
   ]
  },
  {
   "cell_type": "code",
   "execution_count": 3,
   "metadata": {},
   "outputs": [],
   "source": [
    "# results/outcome of this program\n",
    "\n",
    "results_1st     = r\"C:\\Users\\SATEESHB\\OneDrive - Metrolinx\\documents\\zMyWork\\05_PowerBI_PythonCode\\00_Py_UserAccess\\Results_Data\\Step4_Results_Ouput\\1_Line_of_Defense\"\n",
    "results_2nd     = r\"C:\\Users\\SATEESHB\\OneDrive - Metrolinx\\documents\\zMyWork\\05_PowerBI_PythonCode\\00_Py_UserAccess\\Results_Data\\Step4_Results_Ouput\\2_Line_of_Defense\"\n",
    "results_3rd     = r\"C:\\Users\\SATEESHB\\OneDrive - Metrolinx\\documents\\zMyWork\\05_PowerBI_PythonCode\\00_Py_UserAccess\\Results_Data\\Step4_Results_Ouput\\3_Line_of_Defense\""
   ]
  },
  {
   "cell_type": "markdown",
   "metadata": {},
   "source": [
    "## Code"
   ]
  },
  {
   "cell_type": "markdown",
   "metadata": {},
   "source": [
    "### Packages"
   ]
  },
  {
   "cell_type": "code",
   "execution_count": 4,
   "metadata": {},
   "outputs": [],
   "source": [
    "import numpy as np\n",
    "import pandas as pd\n",
    "#import pandasql as ps\n",
    "\n",
    "from datetime import datetime\n",
    "from datetime import date\n",
    "from datetime import time\n",
    "from dateutil import relativedelta\n",
    "from datetime import timedelta\n",
    "import time\n",
    "\n",
    "import warnings\n",
    "warnings.filterwarnings('ignore')"
   ]
  },
  {
   "cell_type": "markdown",
   "metadata": {},
   "source": [
    "### Functions"
   ]
  },
  {
   "cell_type": "code",
   "execution_count": 5,
   "metadata": {},
   "outputs": [],
   "source": [
    "# Stats\n",
    "def df_stats(df,columns):\n",
    "    '''\n",
    "    Stats of each column:\n",
    "    1.Count\n",
    "    2.Unique Values count\n",
    "    3.Missing Values count \n",
    "    4.% of Missing Values wrt total instances of the dataset\n",
    "    5.% of Highest column value count\n",
    "    6.Data Type\n",
    "    \n",
    "    '''\n",
    "    \n",
    "    stats = []\n",
    "    for col in columns:\n",
    "        stats.append((col, df[col].count(), df[col].nunique(), df[col].isnull().sum(), df[col].isnull().sum() * 100 / df.shape[0], df[col].value_counts(normalize=True, dropna=False).values[0] * 100, df[col].dtype))\n",
    "    \n",
    "    stats_cols = ['feature', 'record_count', 'unique_values','missing_records', 'percent_missing_records','percent_highest_columnvalue', 'data_type']\n",
    "    df_stats = pd.DataFrame(stats, columns=stats_cols)\n",
    "    df_stats['cat_or_num'] = df_stats['data_type'].apply(lambda x: 'categorical' if x == 'object' else 'numerical')\n",
    "    return(df_stats)"
   ]
  },
  {
   "cell_type": "markdown",
   "metadata": {},
   "source": [
    "### Get Data"
   ]
  },
  {
   "cell_type": "code",
   "execution_count": 6,
   "metadata": {},
   "outputs": [],
   "source": [
    "df_hr_dataset = pd.read_excel(source_hr_file)\n",
    "df_ad_dataset = pd.read_excel(source_ad_file)\n",
    "df_ad_userassign_dataset = pd.read_excel(source_ad_userassign_file)\n",
    "df_ctrl_dept = pd.read_excel(source_ad_ctrl_dept_file)\n",
    "df_ctrl_grps = pd.read_excel(source_ad_ctrl_grps_file)"
   ]
  },
  {
   "cell_type": "code",
   "execution_count": 7,
   "metadata": {},
   "outputs": [
    {
     "name": "stdout",
     "output_type": "stream",
     "text": [
      "Shape of HR data: (42, 16)\n",
      "Shape of AD data: (50, 19)\n",
      "Shape of AD user assignments data: (461, 3)\n",
      "Shape of AD ctrl groups data: (23, 5)\n",
      "Shape of AD ctrl dept data: (10, 4)\n"
     ]
    }
   ],
   "source": [
    "print(f'Shape of HR data: {df_hr_dataset.shape}')\n",
    "print(f'Shape of AD data: {df_ad_dataset.shape}')\n",
    "print(f'Shape of AD user assignments data: {df_ad_userassign_dataset.shape}')\n",
    "print(f'Shape of AD ctrl groups data: {df_ctrl_grps.shape}')\n",
    "print(f'Shape of AD ctrl dept data: {df_ctrl_dept.shape}')"
   ]
  },
  {
   "cell_type": "code",
   "execution_count": 8,
   "metadata": {},
   "outputs": [],
   "source": [
    "cols = df_ad_dataset.columns\n",
    "#df_stats(df_ad_dataset,cols)"
   ]
  },
  {
   "cell_type": "markdown",
   "metadata": {},
   "source": [
    "### Prepare Data"
   ]
  },
  {
   "cell_type": "code",
   "execution_count": 9,
   "metadata": {},
   "outputs": [
    {
     "data": {
      "text/html": [
       "<div>\n",
       "<style scoped>\n",
       "    .dataframe tbody tr th:only-of-type {\n",
       "        vertical-align: middle;\n",
       "    }\n",
       "\n",
       "    .dataframe tbody tr th {\n",
       "        vertical-align: top;\n",
       "    }\n",
       "\n",
       "    .dataframe thead th {\n",
       "        text-align: right;\n",
       "    }\n",
       "</style>\n",
       "<table border=\"1\" class=\"dataframe\">\n",
       "  <thead>\n",
       "    <tr style=\"text-align: right;\">\n",
       "      <th></th>\n",
       "      <th>Lastname</th>\n",
       "      <th>OUpath</th>\n",
       "      <th>SamAccountName</th>\n",
       "      <th>DisplayName</th>\n",
       "      <th>EmailAddress</th>\n",
       "      <th>CreateTimeStamp</th>\n",
       "      <th>WhenChanged</th>\n",
       "      <th>WhenCreated</th>\n",
       "      <th>AdminCount</th>\n",
       "      <th>UserAccountControl</th>\n",
       "      <th>Description</th>\n",
       "      <th>Firstname</th>\n",
       "      <th>Company</th>\n",
       "      <th>AccountExpiry</th>\n",
       "      <th>Passwordset</th>\n",
       "      <th>Enabled</th>\n",
       "      <th>LastLogonDate</th>\n",
       "      <th>Department</th>\n",
       "    </tr>\n",
       "  </thead>\n",
       "  <tbody>\n",
       "    <tr>\n",
       "      <th>0</th>\n",
       "      <td>Emp1</td>\n",
       "      <td>Test path</td>\n",
       "      <td>JOHNEMP1x</td>\n",
       "      <td>John Emp1</td>\n",
       "      <td>John.Emp12@xyz.com</td>\n",
       "      <td>2021-05-18 03:20:58</td>\n",
       "      <td>2021-12-01 01:00:17</td>\n",
       "      <td>2021-05-18 03:20:58</td>\n",
       "      <td>NaN</td>\n",
       "      <td>512</td>\n",
       "      <td>Request#123</td>\n",
       "      <td>John</td>\n",
       "      <td>NaN</td>\n",
       "      <td>NaN</td>\n",
       "      <td>2021-09-17 01:02:31</td>\n",
       "      <td>True</td>\n",
       "      <td>2021-06-16 01:00:09</td>\n",
       "      <td>XYZ</td>\n",
       "    </tr>\n",
       "    <tr>\n",
       "      <th>1</th>\n",
       "      <td>Emp2</td>\n",
       "      <td>Test path</td>\n",
       "      <td>KINEMP2x</td>\n",
       "      <td>Kin Emp2</td>\n",
       "      <td>Kin.Emp2@xyz.com</td>\n",
       "      <td>2021-05-18 03:20:58</td>\n",
       "      <td>2021-12-01 01:00:17</td>\n",
       "      <td>2021-05-18 03:20:58</td>\n",
       "      <td>NaN</td>\n",
       "      <td>514</td>\n",
       "      <td>Request#122</td>\n",
       "      <td>Kin</td>\n",
       "      <td>NaN</td>\n",
       "      <td>NaN</td>\n",
       "      <td>2021-09-17 01:02:31</td>\n",
       "      <td>False</td>\n",
       "      <td>2021-06-16 01:00:09</td>\n",
       "      <td>xyz</td>\n",
       "    </tr>\n",
       "    <tr>\n",
       "      <th>2</th>\n",
       "      <td>Emp3</td>\n",
       "      <td>Test path</td>\n",
       "      <td>JUNEMP3x</td>\n",
       "      <td>Jun Emp3</td>\n",
       "      <td>Jun.Emp3@xyz.com</td>\n",
       "      <td>2021-09-18 12:31:40</td>\n",
       "      <td>2021-09-20 13:25:07</td>\n",
       "      <td>2021-09-18 12:31:40</td>\n",
       "      <td>NaN</td>\n",
       "      <td>512</td>\n",
       "      <td>Request#121</td>\n",
       "      <td>Jun</td>\n",
       "      <td>NaN</td>\n",
       "      <td>NaN</td>\n",
       "      <td>2021-09-17 12:31:40</td>\n",
       "      <td>True</td>\n",
       "      <td>2021-09-20 13:07:35</td>\n",
       "      <td>XYZ_Dept1</td>\n",
       "    </tr>\n",
       "  </tbody>\n",
       "</table>\n",
       "</div>"
      ],
      "text/plain": [
       "  Lastname     OUpath SamAccountName DisplayName        EmailAddress  \\\n",
       "0     Emp1  Test path      JOHNEMP1x   John Emp1  John.Emp12@xyz.com   \n",
       "1     Emp2  Test path       KINEMP2x    Kin Emp2    Kin.Emp2@xyz.com   \n",
       "2     Emp3  Test path       JUNEMP3x    Jun Emp3    Jun.Emp3@xyz.com   \n",
       "\n",
       "      CreateTimeStamp         WhenChanged         WhenCreated  AdminCount  \\\n",
       "0 2021-05-18 03:20:58 2021-12-01 01:00:17 2021-05-18 03:20:58         NaN   \n",
       "1 2021-05-18 03:20:58 2021-12-01 01:00:17 2021-05-18 03:20:58         NaN   \n",
       "2 2021-09-18 12:31:40 2021-09-20 13:25:07 2021-09-18 12:31:40         NaN   \n",
       "\n",
       "   UserAccountControl  Description Firstname  Company  AccountExpiry  \\\n",
       "0                 512  Request#123      John      NaN            NaN   \n",
       "1                 514  Request#122       Kin      NaN            NaN   \n",
       "2                 512  Request#121       Jun      NaN            NaN   \n",
       "\n",
       "          Passwordset  Enabled       LastLogonDate Department  \n",
       "0 2021-09-17 01:02:31     True 2021-06-16 01:00:09        XYZ  \n",
       "1 2021-09-17 01:02:31    False 2021-06-16 01:00:09        xyz  \n",
       "2 2021-09-17 12:31:40     True 2021-09-20 13:07:35  XYZ_Dept1  "
      ]
     },
     "execution_count": 9,
     "metadata": {},
     "output_type": "execute_result"
    }
   ],
   "source": [
    "# get data without user groups\n",
    "cols1 = list(set(cols) - set(['Group']))\n",
    "df_ad1 = df_ad_dataset[cols1]\n",
    "\n",
    "df_ad1.head(3)"
   ]
  },
  {
   "cell_type": "code",
   "execution_count": 10,
   "metadata": {},
   "outputs": [
    {
     "data": {
      "text/html": [
       "<div>\n",
       "<style scoped>\n",
       "    .dataframe tbody tr th:only-of-type {\n",
       "        vertical-align: middle;\n",
       "    }\n",
       "\n",
       "    .dataframe tbody tr th {\n",
       "        vertical-align: top;\n",
       "    }\n",
       "\n",
       "    .dataframe thead th {\n",
       "        text-align: right;\n",
       "    }\n",
       "</style>\n",
       "<table border=\"1\" class=\"dataframe\">\n",
       "  <thead>\n",
       "    <tr style=\"text-align: right;\">\n",
       "      <th></th>\n",
       "      <th>SamAccountName</th>\n",
       "      <th>Group</th>\n",
       "    </tr>\n",
       "  </thead>\n",
       "  <tbody>\n",
       "    <tr>\n",
       "      <th>0</th>\n",
       "      <td>JOHNEMP1x</td>\n",
       "      <td>grp1;grp2;grp3</td>\n",
       "    </tr>\n",
       "    <tr>\n",
       "      <th>1</th>\n",
       "      <td>KINEMP2x</td>\n",
       "      <td>grp1;grp2;grp3;grp4</td>\n",
       "    </tr>\n",
       "    <tr>\n",
       "      <th>2</th>\n",
       "      <td>JUNEMP3x</td>\n",
       "      <td>grp1;grp2;grp3;grp4;grp5;grp6;grp7;grp8;grp9;g...</td>\n",
       "    </tr>\n",
       "  </tbody>\n",
       "</table>\n",
       "</div>"
      ],
      "text/plain": [
       "  SamAccountName                                              Group\n",
       "0      JOHNEMP1x                                     grp1;grp2;grp3\n",
       "1       KINEMP2x                                grp1;grp2;grp3;grp4\n",
       "2       JUNEMP3x  grp1;grp2;grp3;grp4;grp5;grp6;grp7;grp8;grp9;g..."
      ]
     },
     "execution_count": 10,
     "metadata": {},
     "output_type": "execute_result"
    }
   ],
   "source": [
    "# get data with user groups\n",
    "df_ad2 = df_ad_dataset[['SamAccountName','Group']]\n",
    "df_ad2.head(3)"
   ]
  },
  {
   "cell_type": "code",
   "execution_count": 11,
   "metadata": {},
   "outputs": [
    {
     "name": "stdout",
     "output_type": "stream",
     "text": [
      "   Unnamed: 0 SamAccountName Group\n",
      "0           0      JOHNEMP1x  grp1\n",
      "1           1      JOHNEMP1x  grp2\n",
      "2           2      JOHNEMP1x  grp3\n",
      "3           0       KINEMP2x  grp1\n",
      "4           1       KINEMP2x  grp2\n"
     ]
    }
   ],
   "source": [
    "df_ad3 = df_ad_userassign_dataset\n",
    "print(df_ad3.head(5))"
   ]
  },
  {
   "cell_type": "markdown",
   "metadata": {},
   "source": [
    "### Joins"
   ]
  },
  {
   "cell_type": "code",
   "execution_count": 12,
   "metadata": {},
   "outputs": [
    {
     "data": {
      "text/html": [
       "<div>\n",
       "<style scoped>\n",
       "    .dataframe tbody tr th:only-of-type {\n",
       "        vertical-align: middle;\n",
       "    }\n",
       "\n",
       "    .dataframe tbody tr th {\n",
       "        vertical-align: top;\n",
       "    }\n",
       "\n",
       "    .dataframe thead th {\n",
       "        text-align: right;\n",
       "    }\n",
       "</style>\n",
       "<table border=\"1\" class=\"dataframe\">\n",
       "  <thead>\n",
       "    <tr style=\"text-align: right;\">\n",
       "      <th></th>\n",
       "      <th>SamAccountName</th>\n",
       "      <th>Group</th>\n",
       "      <th>xyz_Grp_Tags</th>\n",
       "      <th>Privileged_Access</th>\n",
       "    </tr>\n",
       "  </thead>\n",
       "  <tbody>\n",
       "    <tr>\n",
       "      <th>0</th>\n",
       "      <td>JOHNEMP1x</td>\n",
       "      <td>grp1</td>\n",
       "      <td>X</td>\n",
       "      <td>NaN</td>\n",
       "    </tr>\n",
       "    <tr>\n",
       "      <th>2</th>\n",
       "      <td>JOHNEMP1x</td>\n",
       "      <td>grp3</td>\n",
       "      <td>X</td>\n",
       "      <td>NaN</td>\n",
       "    </tr>\n",
       "    <tr>\n",
       "      <th>3</th>\n",
       "      <td>KINEMP2x</td>\n",
       "      <td>grp1</td>\n",
       "      <td>X</td>\n",
       "      <td>NaN</td>\n",
       "    </tr>\n",
       "  </tbody>\n",
       "</table>\n",
       "</div>"
      ],
      "text/plain": [
       "  SamAccountName Group xyz_Grp_Tags Privileged_Access\n",
       "0      JOHNEMP1x  grp1            X               NaN\n",
       "2      JOHNEMP1x  grp3            X               NaN\n",
       "3       KINEMP2x  grp1            X               NaN"
      ]
     },
     "execution_count": 12,
     "metadata": {},
     "output_type": "execute_result"
    }
   ],
   "source": [
    "# Join 1: Identify xyz AD Groups in each user group provision\n",
    "df_m = pd.merge(df_ad3,df_ctrl_grps[['Unique_AD_Groups','xyz_Grp_Tags','Privileged_Access']], left_on = 'Group', right_on = 'Unique_AD_Groups',how ='left')\n",
    "Q = (df_m[\"xyz_Grp_Tags\"]==\"X\")\n",
    "df_xyz_usersgrps = df_m[Q][[\"SamAccountName\",\"Group\",\"xyz_Grp_Tags\",\"Privileged_Access\"]]\n",
    "df_xyz_usersgrps.head(3)"
   ]
  },
  {
   "cell_type": "code",
   "execution_count": 13,
   "metadata": {},
   "outputs": [],
   "source": [
    "# Join 2: Get additional details of the AD user\n",
    "df_ad_xyz1 = pd.merge(df_ad1,df_xyz_usersgrps, on = 'SamAccountName', how ='left')"
   ]
  },
  {
   "cell_type": "code",
   "execution_count": 14,
   "metadata": {},
   "outputs": [],
   "source": [
    "# Join 3: Identify xyz Groups in each user group provision\n",
    "df_ad_xyz2 = pd.merge(df_ad_xyz1,df_ctrl_dept[['Unique_AD_Departments','xyz_Dept_Tags']], left_on = 'Department', right_on = 'Unique_AD_Departments',how ='left')"
   ]
  },
  {
   "cell_type": "code",
   "execution_count": 15,
   "metadata": {},
   "outputs": [
    {
     "data": {
      "text/plain": [
       "(42, 16)"
      ]
     },
     "execution_count": 15,
     "metadata": {},
     "output_type": "execute_result"
    }
   ],
   "source": [
    "# HR work email is not null \n",
    "q = df_hr_dataset[\"Work_Email\"].notnull()\n",
    "df_hr_dataset2 = df_hr_dataset[q]\n",
    "df_hr_dataset2.shape"
   ]
  },
  {
   "cell_type": "code",
   "execution_count": 16,
   "metadata": {},
   "outputs": [
    {
     "name": "stdout",
     "output_type": "stream",
     "text": [
      "(288, 33)\n"
     ]
    },
    {
     "data": {
      "text/html": [
       "<div>\n",
       "<style scoped>\n",
       "    .dataframe tbody tr th:only-of-type {\n",
       "        vertical-align: middle;\n",
       "    }\n",
       "\n",
       "    .dataframe tbody tr th {\n",
       "        vertical-align: top;\n",
       "    }\n",
       "\n",
       "    .dataframe thead th {\n",
       "        text-align: right;\n",
       "    }\n",
       "</style>\n",
       "<table border=\"1\" class=\"dataframe\">\n",
       "  <thead>\n",
       "    <tr style=\"text-align: right;\">\n",
       "      <th></th>\n",
       "      <th>AD_AccountExpiry</th>\n",
       "      <th>AD_AdminCount</th>\n",
       "      <th>AD_Company</th>\n",
       "      <th>AD_CreateTimeStamp</th>\n",
       "      <th>AD_Department</th>\n",
       "      <th>AD_Description</th>\n",
       "      <th>AD_DisplayName</th>\n",
       "      <th>AD_EmailAddress</th>\n",
       "      <th>AD_Enabled</th>\n",
       "      <th>AD_Firstname</th>\n",
       "      <th>...</th>\n",
       "      <th>HR_Department_Name</th>\n",
       "      <th>HR_Division</th>\n",
       "      <th>HR_Employee_No</th>\n",
       "      <th>HR_First_Name</th>\n",
       "      <th>HR_Last_Name</th>\n",
       "      <th>HR_Manage_Email</th>\n",
       "      <th>HR_Record_Type</th>\n",
       "      <th>HR_Status</th>\n",
       "      <th>HR_Termination_Date</th>\n",
       "      <th>HR_Work_Email</th>\n",
       "    </tr>\n",
       "  </thead>\n",
       "  <tbody>\n",
       "    <tr>\n",
       "      <th>0</th>\n",
       "      <td>NaN</td>\n",
       "      <td>NaN</td>\n",
       "      <td>NaN</td>\n",
       "      <td>2021-05-18 03:20:58</td>\n",
       "      <td>XYZ</td>\n",
       "      <td>Request#123</td>\n",
       "      <td>John Emp1</td>\n",
       "      <td>john.emp12@xyz.com</td>\n",
       "      <td>True</td>\n",
       "      <td>John</td>\n",
       "      <td>...</td>\n",
       "      <td>NaN</td>\n",
       "      <td>NaN</td>\n",
       "      <td>NaN</td>\n",
       "      <td>NaN</td>\n",
       "      <td>NaN</td>\n",
       "      <td>NaN</td>\n",
       "      <td>NaN</td>\n",
       "      <td>NaN</td>\n",
       "      <td>NaT</td>\n",
       "      <td>NaN</td>\n",
       "    </tr>\n",
       "    <tr>\n",
       "      <th>1</th>\n",
       "      <td>NaN</td>\n",
       "      <td>NaN</td>\n",
       "      <td>NaN</td>\n",
       "      <td>2021-05-18 03:20:58</td>\n",
       "      <td>XYZ</td>\n",
       "      <td>Request#123</td>\n",
       "      <td>John Emp1</td>\n",
       "      <td>john.emp12@xyz.com</td>\n",
       "      <td>True</td>\n",
       "      <td>John</td>\n",
       "      <td>...</td>\n",
       "      <td>NaN</td>\n",
       "      <td>NaN</td>\n",
       "      <td>NaN</td>\n",
       "      <td>NaN</td>\n",
       "      <td>NaN</td>\n",
       "      <td>NaN</td>\n",
       "      <td>NaN</td>\n",
       "      <td>NaN</td>\n",
       "      <td>NaT</td>\n",
       "      <td>NaN</td>\n",
       "    </tr>\n",
       "    <tr>\n",
       "      <th>2</th>\n",
       "      <td>NaN</td>\n",
       "      <td>NaN</td>\n",
       "      <td>NaN</td>\n",
       "      <td>2021-05-18 03:20:58</td>\n",
       "      <td>xyz</td>\n",
       "      <td>Request#122</td>\n",
       "      <td>Kin Emp2</td>\n",
       "      <td>kin.emp2@xyz.com</td>\n",
       "      <td>False</td>\n",
       "      <td>Kin</td>\n",
       "      <td>...</td>\n",
       "      <td>Salesforce</td>\n",
       "      <td>Consulting</td>\n",
       "      <td>1002.0</td>\n",
       "      <td>Kin</td>\n",
       "      <td>Emp2</td>\n",
       "      <td>Sat.Emp5@xyz.com</td>\n",
       "      <td>XYZ Employee</td>\n",
       "      <td>Active</td>\n",
       "      <td>NaT</td>\n",
       "      <td>kin.emp2@xyz.com</td>\n",
       "    </tr>\n",
       "  </tbody>\n",
       "</table>\n",
       "<p>3 rows × 33 columns</p>\n",
       "</div>"
      ],
      "text/plain": [
       "   AD_AccountExpiry  AD_AdminCount  AD_Company  AD_CreateTimeStamp  \\\n",
       "0               NaN            NaN         NaN 2021-05-18 03:20:58   \n",
       "1               NaN            NaN         NaN 2021-05-18 03:20:58   \n",
       "2               NaN            NaN         NaN 2021-05-18 03:20:58   \n",
       "\n",
       "  AD_Department AD_Description AD_DisplayName     AD_EmailAddress  AD_Enabled  \\\n",
       "0           XYZ    Request#123      John Emp1  john.emp12@xyz.com        True   \n",
       "1           XYZ    Request#123      John Emp1  john.emp12@xyz.com        True   \n",
       "2           xyz    Request#122       Kin Emp2    kin.emp2@xyz.com       False   \n",
       "\n",
       "  AD_Firstname  ... HR_Department_Name HR_Division HR_Employee_No  \\\n",
       "0         John  ...                NaN         NaN            NaN   \n",
       "1         John  ...                NaN         NaN            NaN   \n",
       "2          Kin  ...         Salesforce  Consulting         1002.0   \n",
       "\n",
       "  HR_First_Name HR_Last_Name   HR_Manage_Email HR_Record_Type HR_Status  \\\n",
       "0           NaN          NaN               NaN            NaN       NaN   \n",
       "1           NaN          NaN               NaN            NaN       NaN   \n",
       "2           Kin         Emp2  Sat.Emp5@xyz.com   XYZ Employee    Active   \n",
       "\n",
       "   HR_Termination_Date     HR_Work_Email  \n",
       "0                  NaT               NaN  \n",
       "1                  NaT               NaN  \n",
       "2                  NaT  kin.emp2@xyz.com  \n",
       "\n",
       "[3 rows x 33 columns]"
      ]
     },
     "execution_count": 16,
     "metadata": {},
     "output_type": "execute_result"
    }
   ],
   "source": [
    "# Join 4: Get HR details for each user\n",
    "\n",
    "df_ad_xyz21 = df_ad_xyz2\n",
    "df_hr_dataset21 = df_hr_dataset2\n",
    "\n",
    "df_ad_xyz21.columns = df_ad_xyz2.columns.map(lambda x: 'AD_'+ str(x))\n",
    "df_hr_dataset21.columns = df_hr_dataset2.columns.map(lambda x: 'HR_'+ str(x))\n",
    "\n",
    "df_ad_xyz21['AD_EmailAddress'] = df_ad_xyz21['AD_EmailAddress'].str.strip().str.lower()\n",
    "df_hr_dataset21['HR_Work_Email'] = df_hr_dataset21['HR_Work_Email'].str.strip().str.lower()\n",
    "\n",
    "\n",
    "\n",
    "\n",
    "# spilt AD datasets\n",
    "q = df_ad_xyz21[\"AD_EmailAddress\"].notnull()\n",
    "df_ad_xyz22 = df_ad_xyz21[q]\n",
    "\n",
    "q = df_ad_xyz21[\"AD_EmailAddress\"].isnull()\n",
    "df_ad_xyz23 = df_ad_xyz21[q]\n",
    "\n",
    "\n",
    "# join with HR data \n",
    "df_ad_xyz3 = pd.merge(df_ad_xyz22,df_hr_dataset21, left_on = 'AD_EmailAddress', right_on = 'HR_Work_Email', how ='left', indicator=True)\n",
    "\n",
    "# concate blank + join \n",
    "df_ad_xyz4 = pd.concat([df_ad_xyz3,df_ad_xyz23])\n",
    "\n",
    "col_remove = ['_merge','HR_Rehire_Flag', 'HR_Person_User_Name','HR_Start_Date','HR_Employee Assignment Type','HR_Position','HR_Unnamed: 0']\n",
    "col = df_ad_xyz4.columns\n",
    "re_col = [elem for elem in col if elem not in col_remove]\n",
    "df_ad_xyz = df_ad_xyz4[re_col]\n",
    "\n",
    "print(df_ad_xyz.shape)\n",
    "df_ad_xyz.head(3)"
   ]
  },
  {
   "cell_type": "markdown",
   "metadata": {},
   "source": [
    "### Transformations"
   ]
  },
  {
   "cell_type": "markdown",
   "metadata": {},
   "source": [
    "##### AD Account Status"
   ]
  },
  {
   "cell_type": "code",
   "execution_count": 17,
   "metadata": {},
   "outputs": [],
   "source": [
    "# Transform AD Account Status using Enabled\n",
    "\n",
    "df_ad_xyz['AD_Enabled']      = df_ad_xyz['AD_Enabled'].astype(str)\n",
    "df_ad_xyz['zAD_User_Status'] = df_ad_xyz['AD_Enabled'].apply(lambda x: 'Active' if x == 'True' else 'Inactive')"
   ]
  },
  {
   "cell_type": "code",
   "execution_count": 18,
   "metadata": {},
   "outputs": [
    {
     "data": {
      "text/html": [
       "<div>\n",
       "<style scoped>\n",
       "    .dataframe tbody tr th:only-of-type {\n",
       "        vertical-align: middle;\n",
       "    }\n",
       "\n",
       "    .dataframe tbody tr th {\n",
       "        vertical-align: top;\n",
       "    }\n",
       "\n",
       "    .dataframe thead th {\n",
       "        text-align: right;\n",
       "    }\n",
       "</style>\n",
       "<table border=\"1\" class=\"dataframe\">\n",
       "  <thead>\n",
       "    <tr style=\"text-align: right;\">\n",
       "      <th></th>\n",
       "      <th>AD_SamAccountName</th>\n",
       "      <th>zAD_User_Status</th>\n",
       "      <th>AD_Enabled</th>\n",
       "    </tr>\n",
       "  </thead>\n",
       "  <tbody>\n",
       "    <tr>\n",
       "      <th>0</th>\n",
       "      <td>JOHNEMP1x</td>\n",
       "      <td>Active</td>\n",
       "      <td>True</td>\n",
       "    </tr>\n",
       "    <tr>\n",
       "      <th>1</th>\n",
       "      <td>JOHNEMP1x</td>\n",
       "      <td>Active</td>\n",
       "      <td>True</td>\n",
       "    </tr>\n",
       "  </tbody>\n",
       "</table>\n",
       "</div>"
      ],
      "text/plain": [
       "  AD_SamAccountName zAD_User_Status AD_Enabled\n",
       "0         JOHNEMP1x          Active       True\n",
       "1         JOHNEMP1x          Active       True"
      ]
     },
     "execution_count": 18,
     "metadata": {},
     "output_type": "execute_result"
    }
   ],
   "source": [
    "q = (df_ad_xyz['AD_SamAccountName']=='JOHNEMP1x')\n",
    "col = ['AD_SamAccountName', 'zAD_User_Status', 'AD_Enabled']\n",
    "\n",
    "df_ad_xyz[col][q]"
   ]
  },
  {
   "cell_type": "markdown",
   "metadata": {},
   "source": [
    "##### Teriminated Users Access Check"
   ]
  },
  {
   "cell_type": "code",
   "execution_count": 19,
   "metadata": {},
   "outputs": [],
   "source": [
    "# Auditcheck: Check the active AD access of terminated employees. \n",
    "\n",
    "df_ad_xyz['zTerminated_User_ActiveAD'] = df_ad_xyz[['zAD_User_Status','HR_Status']].apply(lambda x: \"AuditCheck\" if x['zAD_User_Status'] == \"Active\" and x['HR_Status'] == \"Departed\" else '', axis=1)"
   ]
  },
  {
   "cell_type": "code",
   "execution_count": 20,
   "metadata": {},
   "outputs": [
    {
     "data": {
      "text/html": [
       "<div>\n",
       "<style scoped>\n",
       "    .dataframe tbody tr th:only-of-type {\n",
       "        vertical-align: middle;\n",
       "    }\n",
       "\n",
       "    .dataframe tbody tr th {\n",
       "        vertical-align: top;\n",
       "    }\n",
       "\n",
       "    .dataframe thead th {\n",
       "        text-align: right;\n",
       "    }\n",
       "</style>\n",
       "<table border=\"1\" class=\"dataframe\">\n",
       "  <thead>\n",
       "    <tr style=\"text-align: right;\">\n",
       "      <th></th>\n",
       "      <th>AD_SamAccountName</th>\n",
       "      <th>zAD_User_Status</th>\n",
       "      <th>AD_Enabled</th>\n",
       "      <th>HR_Status</th>\n",
       "      <th>HR_Termination_Date</th>\n",
       "      <th>zTerminated_User_ActiveAD</th>\n",
       "    </tr>\n",
       "  </thead>\n",
       "  <tbody>\n",
       "    <tr>\n",
       "      <th>154</th>\n",
       "      <td>FAYEMP27x</td>\n",
       "      <td>Active</td>\n",
       "      <td>True</td>\n",
       "      <td>Departed</td>\n",
       "      <td>2019-01-01</td>\n",
       "      <td>AuditCheck</td>\n",
       "    </tr>\n",
       "    <tr>\n",
       "      <th>155</th>\n",
       "      <td>FAYEMP27x</td>\n",
       "      <td>Active</td>\n",
       "      <td>True</td>\n",
       "      <td>Departed</td>\n",
       "      <td>2019-01-01</td>\n",
       "      <td>AuditCheck</td>\n",
       "    </tr>\n",
       "    <tr>\n",
       "      <th>156</th>\n",
       "      <td>FAYEMP27x</td>\n",
       "      <td>Active</td>\n",
       "      <td>True</td>\n",
       "      <td>Departed</td>\n",
       "      <td>2019-01-01</td>\n",
       "      <td>AuditCheck</td>\n",
       "    </tr>\n",
       "    <tr>\n",
       "      <th>157</th>\n",
       "      <td>FAYEMP27x</td>\n",
       "      <td>Active</td>\n",
       "      <td>True</td>\n",
       "      <td>Departed</td>\n",
       "      <td>2019-01-01</td>\n",
       "      <td>AuditCheck</td>\n",
       "    </tr>\n",
       "    <tr>\n",
       "      <th>158</th>\n",
       "      <td>FAYEMP27x</td>\n",
       "      <td>Active</td>\n",
       "      <td>True</td>\n",
       "      <td>Departed</td>\n",
       "      <td>2019-01-01</td>\n",
       "      <td>AuditCheck</td>\n",
       "    </tr>\n",
       "  </tbody>\n",
       "</table>\n",
       "</div>"
      ],
      "text/plain": [
       "    AD_SamAccountName zAD_User_Status AD_Enabled HR_Status  \\\n",
       "154         FAYEMP27x          Active       True  Departed   \n",
       "155         FAYEMP27x          Active       True  Departed   \n",
       "156         FAYEMP27x          Active       True  Departed   \n",
       "157         FAYEMP27x          Active       True  Departed   \n",
       "158         FAYEMP27x          Active       True  Departed   \n",
       "\n",
       "    HR_Termination_Date zTerminated_User_ActiveAD  \n",
       "154          2019-01-01                AuditCheck  \n",
       "155          2019-01-01                AuditCheck  \n",
       "156          2019-01-01                AuditCheck  \n",
       "157          2019-01-01                AuditCheck  \n",
       "158          2019-01-01                AuditCheck  "
      ]
     },
     "execution_count": 20,
     "metadata": {},
     "output_type": "execute_result"
    }
   ],
   "source": [
    "col = ['AD_SamAccountName', 'zAD_User_Status', 'AD_Enabled','HR_Status', \"HR_Termination_Date\",'zTerminated_User_ActiveAD']\n",
    "Q = (df_ad_xyz['zTerminated_User_ActiveAD'] == \"AuditCheck\")\n",
    "df_ad_xyz[Q][col].head(5)"
   ]
  },
  {
   "cell_type": "markdown",
   "metadata": {},
   "source": [
    "##### Aging"
   ]
  },
  {
   "cell_type": "code",
   "execution_count": 21,
   "metadata": {},
   "outputs": [],
   "source": [
    "#  Age1: Days since last login date.\n",
    "#  Age2: Days since last password reset.\n",
    "#  Age3: Days since last update (when changed).\n",
    "#  Age4: Days since creation (when created).\n",
    "\n",
    "def age_calc(y):\n",
    "    x = date.today()\n",
    "    y = y.date()\n",
    "    diff = (x-y)\n",
    "    return diff.days\n",
    "\n",
    "df_ad_xyz['zDays_SinceLastLogonDate'] = df_ad_xyz[['AD_LastLogonDate']].apply(lambda x:age_calc(*x), axis=1)\n",
    "df_ad_xyz['zDays_SincePswdReset']     = df_ad_xyz[['AD_Passwordset']].apply(lambda x:age_calc(*x), axis=1)\n",
    "df_ad_xyz['zDays_SinceWhenChanged']   = df_ad_xyz[['AD_WhenChanged']].apply(lambda x:age_calc(*x), axis=1)\n",
    "df_ad_xyz['zDays_SinceWhenCreated']   = df_ad_xyz[['AD_WhenCreated']].apply(lambda x:age_calc(*x), axis=1)"
   ]
  },
  {
   "cell_type": "markdown",
   "metadata": {},
   "source": [
    "### Filter"
   ]
  },
  {
   "cell_type": "markdown",
   "metadata": {},
   "source": [
    "##### Mismatches"
   ]
  },
  {
   "cell_type": "code",
   "execution_count": 22,
   "metadata": {},
   "outputs": [],
   "source": [
    "# Mismatches with HR email\n",
    "q=(df_ad_xyz['HR_Work_Email'].isnull()) | (df_ad_xyz['HR_Work_Email']==u'')\n",
    "df_ad_xyz_mismatches = df_ad_xyz[q]\n",
    "df_ad_xyz_mismatches[\"zMatched\"] = \"MisMatch\""
   ]
  },
  {
   "cell_type": "markdown",
   "metadata": {},
   "source": [
    "##### HR Matches"
   ]
  },
  {
   "cell_type": "code",
   "execution_count": 23,
   "metadata": {},
   "outputs": [],
   "source": [
    "# HR matches with HR email\n",
    "q=(df_ad_xyz['HR_Work_Email'].notnull())\n",
    "df_ad_xyz_hrmatches = df_ad_xyz[q]\n",
    "df_ad_xyz_hrmatches[\"zMatched\"] = \"HR_Match\""
   ]
  },
  {
   "cell_type": "code",
   "execution_count": 24,
   "metadata": {},
   "outputs": [],
   "source": [
    "df_ad_xyz1 = pd.concat([df_ad_xyz_hrmatches,df_ad_xyz_mismatches])\n",
    "df_ad_xyz1[\"Reporting_Date\"] = run_date"
   ]
  },
  {
   "cell_type": "markdown",
   "metadata": {},
   "source": [
    "## Output"
   ]
  },
  {
   "cell_type": "code",
   "execution_count": 25,
   "metadata": {},
   "outputs": [],
   "source": [
    "group_cols = ['AD_SamAccountName','AD_DisplayName', 'AD_Group', 'AD_xyz_Grp_Tags', 'AD_Privileged_Access',\"zMatched\",\"Reporting_Date\"]\n",
    "user_cols = ['AD_SamAccountName','AD_DisplayName','AD_AccountExpiry', 'AD_Company', 'AD_CreateTimeStamp', 'AD_Department', 'AD_Description', 'AD_EmailAddress',\n",
    "       'AD_Enabled', 'AD_Firstname', 'AD_LastLogonDate', 'AD_Lastname', 'AD_Passwordset', 'AD_xyz_Dept_Tags', 'AD_WhenChanged', 'AD_WhenCreated', 'HR_Department_Name', 'HR_Division', 'HR_Employee_No', 'HR_First_Name', 'HR_Last_Name', 'HR_Manage_Email', 'HR_Record_Type',\n",
    "       'HR_Status', 'HR_Termination_Date', 'HR_Work_Email', 'zAD_User_Status', 'zTerminated_User_ActiveAD', 'zDays_SinceLastLogonDate', 'zDays_SincePswdReset', 'zDays_SinceWhenChanged', 'zDays_SinceWhenCreated',\"zMatched\",\"Reporting_Date\"]"
   ]
  },
  {
   "cell_type": "markdown",
   "metadata": {},
   "source": [
    "##### Split Users and their User assignments(Groups)"
   ]
  },
  {
   "cell_type": "code",
   "execution_count": 26,
   "metadata": {},
   "outputs": [],
   "source": [
    "df_ad_xyz1_grps = df_ad_xyz1[group_cols]\n",
    "df_ad_xyz1_users = df_ad_xyz1[user_cols].drop_duplicates(subset=['AD_SamAccountName'],keep='last')"
   ]
  },
  {
   "cell_type": "markdown",
   "metadata": {},
   "source": [
    "##### 1. Power BI inputs files (1st Line of Defense's ASK)"
   ]
  },
  {
   "cell_type": "code",
   "execution_count": 27,
   "metadata": {},
   "outputs": [],
   "source": [
    "# Refined datasets for Power BI visualizations which is used for daily monitoring activity.\n",
    "with pd.ExcelWriter(results_1st+f\"\\output_ad_xyz_{run_date}.xlsx\") as writer:\n",
    "    df_ad_xyz1_users.to_excel(writer, sheet_name=\"ad_xyz_users\")\n",
    "    df_ad_xyz1_grps.to_excel(writer, sheet_name=\"ad_xyz_grps\")"
   ]
  },
  {
   "cell_type": "markdown",
   "metadata": {},
   "source": [
    "##### 2. Manager Review Reports (2nd line of Defense's ASK)"
   ]
  },
  {
   "cell_type": "code",
   "execution_count": 28,
   "metadata": {},
   "outputs": [],
   "source": [
    "# Need a Manager's report with all hi/her reportees and their group assignments.\n",
    "\n",
    "hr_managers = df_ad_xyz_hrmatches['HR_Manage_Email'].unique().tolist()\n",
    "\n",
    "for i in hr_managers:\n",
    "    q = (df_ad_xyz_hrmatches['HR_Manage_Email']== i)\n",
    "    df = df_ad_xyz_hrmatches[q]\n",
    "    cols = df.columns\n",
    "    cols1 = list(set(cols) - set(['AD_Group','AD_AdminCount',\"AD_UserAccountControl\",\"AD_OUpath\"]))\n",
    "    df_user=df[cols1].drop_duplicates(['AD_SamAccountName'], keep ='last')\n",
    "    df_user_grps=df[[\"AD_SamAccountName\",\"AD_DisplayName\", \"AD_Group\",\"AD_xyz_Grp_Tags\", \"AD_Privileged_Access\",\"zMatched\"]] \n",
    "    \n",
    "    with pd.ExcelWriter(results_2nd+f\"\\output_ad_xyz_ManagerReview_{run_date}_{i}.xlsx\") as writer:\n",
    "        #df.to_excel(writer, sheet_name=i[:10])\n",
    "        df_user.to_excel(writer, sheet_name=\"AD_Users\")\n",
    "        df_user_grps.to_excel(writer, sheet_name=\"Their_Groups\")"
   ]
  },
  {
   "cell_type": "markdown",
   "metadata": {},
   "source": [
    "##### 3. Audit Review Reports (3rd line of Defense's ASK)"
   ]
  },
  {
   "cell_type": "code",
   "execution_count": 29,
   "metadata": {},
   "outputs": [],
   "source": [
    "# Terminated User with active AD Access + all Mismatches including contractors\n",
    "\n",
    "q = (df_ad_xyz_hrmatches['zTerminated_User_ActiveAD'] == \"AuditCheck\")\n",
    "df_hr = df_ad_xyz_hrmatches[q]\n",
    "df = pd.concat([df_hr,df_ad_xyz_mismatches])\n",
    "\n",
    "cols = df.columns\n",
    "cols1 = list(set(cols) - set(['AD_Group','AD_AdminCount',\"AD_UserAccountControl\",\"AD_OUpath\"]))\n",
    "df_user=df[cols1].drop_duplicates(['AD_SamAccountName'], keep ='last')\n",
    "df_user_grps=df[[\"AD_SamAccountName\",\"AD_DisplayName\", \"AD_Group\",\"AD_xyz_Grp_Tags\", \"AD_Privileged_Access\",\"zMatched\"]] \n",
    "    \n",
    "with pd.ExcelWriter(results_3rd+f\"\\output_ad_xyz_AuditReview_{run_date}_{i}.xlsx\") as writer:\n",
    "    df_user.to_excel(writer, sheet_name=\"AD_Users\")\n",
    "    df_user_grps.to_excel(writer, sheet_name=\"Their_Groups\")"
   ]
  },
  {
   "cell_type": "code",
   "execution_count": 30,
   "metadata": {},
   "outputs": [
    {
     "data": {
      "text/plain": [
       "array(['grp1', 'grp3', 'grp5', 'grp6', 'grp8', 'grp10', 'grp11', 'grp12',\n",
       "       'grp15', nan], dtype=object)"
      ]
     },
     "execution_count": 30,
     "metadata": {},
     "output_type": "execute_result"
    }
   ],
   "source": [
    "df_ad_xyz1_grps['AD_Group'].unique()"
   ]
  },
  {
   "cell_type": "code",
   "execution_count": null,
   "metadata": {},
   "outputs": [],
   "source": []
  }
 ],
 "metadata": {
  "kernelspec": {
   "display_name": "Python 3",
   "language": "python",
   "name": "python3"
  },
  "language_info": {
   "codemirror_mode": {
    "name": "ipython",
    "version": 3
   },
   "file_extension": ".py",
   "mimetype": "text/x-python",
   "name": "python",
   "nbconvert_exporter": "python",
   "pygments_lexer": "ipython3",
   "version": "3.7.3"
  }
 },
 "nbformat": 4,
 "nbformat_minor": 2
}
