{
 "cells": [
  {
   "cell_type": "markdown",
   "metadata": {},
   "source": [
    "# XYZ's IT User Access Review Step 1: Consolidate the HR Data"
   ]
  },
  {
   "cell_type": "markdown",
   "metadata": {},
   "source": [
    "###### Author : Sateesh Babu\n",
    "###### Version: V3\n",
    "###### Created: 2021-12-25\n",
    "###### Updated: 2021-12-30"
   ]
  },
  {
   "cell_type": "markdown",
   "metadata": {},
   "source": [
    "# Input"
   ]
  },
  {
   "cell_type": "code",
   "execution_count": 16,
   "metadata": {},
   "outputs": [],
   "source": [
    "# Date when you want to generate the reports for give XYZ IT Active Directory snapshot\n",
    "run_date = '20211230'"
   ]
  },
  {
   "cell_type": "code",
   "execution_count": 17,
   "metadata": {},
   "outputs": [],
   "source": [
    "# Source data file path\n",
    "# 1.HR active list; 2.HR depart list\n",
    "\n",
    "source_filepath = r\"C:\\Users\\SATEESHB\\OneDrive - Metrolinx\\documents\\zMyWork\\05_PowerBI_PythonCode\\00_Py_UserAccess\\Source_Data\\HR\"\n",
    "source_hr_staff  = source_filepath + f\"\\HR_Status_Active_{run_date}.xlsx\"\n",
    "source_hr_depart  = source_filepath + f\"\\HR_Status_Departure_{run_date}.xlsx\""
   ]
  },
  {
   "cell_type": "code",
   "execution_count": 18,
   "metadata": {},
   "outputs": [],
   "source": [
    "# results/outcome of this program\n",
    "\n",
    "results_hr_path  = r\"C:\\Users\\SATEESHB\\OneDrive - Metrolinx\\documents\\zMyWork\\05_PowerBI_PythonCode\\00_Py_UserAccess\\Results_Data\\Step1_Results_HR\""
   ]
  },
  {
   "cell_type": "markdown",
   "metadata": {},
   "source": [
    "## Code"
   ]
  },
  {
   "cell_type": "markdown",
   "metadata": {},
   "source": [
    "### Packages"
   ]
  },
  {
   "cell_type": "code",
   "execution_count": 19,
   "metadata": {},
   "outputs": [],
   "source": [
    "import numpy as np\n",
    "import pandas as pd\n",
    "#import pandasql as ps\n",
    "\n",
    "from datetime import datetime\n",
    "from datetime import date\n",
    "from datetime import time\n",
    "from dateutil import relativedelta\n",
    "from datetime import timedelta\n",
    "\n",
    "\n",
    "import warnings\n",
    "warnings.filterwarnings('ignore')"
   ]
  },
  {
   "cell_type": "markdown",
   "metadata": {},
   "source": [
    "### Functions"
   ]
  },
  {
   "cell_type": "code",
   "execution_count": 20,
   "metadata": {},
   "outputs": [],
   "source": [
    "# Stats\n",
    "def df_stats(df,columns):\n",
    "    '''\n",
    "    Stats of each column:\n",
    "    1.Count\n",
    "    2.Unique Values count\n",
    "    3.Missing Values count \n",
    "    4.% of Missing Values wrt total instances of the dataset\n",
    "    5.% of Highest column value count\n",
    "    6.Data Type\n",
    "    \n",
    "    '''\n",
    "    \n",
    "    stats = []\n",
    "    for col in columns:\n",
    "        stats.append((col, df[col].count(), df[col].nunique(), df[col].isnull().sum(), df[col].isnull().sum() * 100 / df.shape[0], df[col].value_counts(normalize=True, dropna=False).values[0] * 100, df[col].dtype))\n",
    "    \n",
    "    stats_cols = ['feature', 'record_count', 'unique_values','missing_records', 'percent_missing_records','percent_highest_columnvalue', 'data_type']\n",
    "    df_stats = pd.DataFrame(stats, columns=stats_cols)\n",
    "    df_stats['cat_or_num'] = df_stats['data_type'].apply(lambda x: 'categorical' if x == 'object' else 'numerical')\n",
    "    return(df_stats) "
   ]
  },
  {
   "cell_type": "markdown",
   "metadata": {},
   "source": [
    "### Get Data"
   ]
  },
  {
   "cell_type": "code",
   "execution_count": 21,
   "metadata": {},
   "outputs": [],
   "source": [
    "df_hr_staff = pd.read_excel(source_hr_staff,skiprows=4)\n",
    "df_hr_depart = pd.read_excel(source_hr_depart,skiprows=4)"
   ]
  },
  {
   "cell_type": "code",
   "execution_count": 22,
   "metadata": {},
   "outputs": [
    {
     "name": "stdout",
     "output_type": "stream",
     "text": [
      "(26, 13)\n",
      "(21, 12)\n"
     ]
    }
   ],
   "source": [
    "print(df_hr_staff.shape)\n",
    "print(df_hr_depart.shape)"
   ]
  },
  {
   "cell_type": "code",
   "execution_count": 23,
   "metadata": {},
   "outputs": [
    {
     "data": {
      "text/html": [
       "<div>\n",
       "<style scoped>\n",
       "    .dataframe tbody tr th:only-of-type {\n",
       "        vertical-align: middle;\n",
       "    }\n",
       "\n",
       "    .dataframe tbody tr th {\n",
       "        vertical-align: top;\n",
       "    }\n",
       "\n",
       "    .dataframe thead th {\n",
       "        text-align: right;\n",
       "    }\n",
       "</style>\n",
       "<table border=\"1\" class=\"dataframe\">\n",
       "  <thead>\n",
       "    <tr style=\"text-align: right;\">\n",
       "      <th></th>\n",
       "      <th>Employee #</th>\n",
       "      <th>First Name</th>\n",
       "      <th>Last Name</th>\n",
       "      <th>Status</th>\n",
       "      <th>Position Name</th>\n",
       "      <th>Employee Assignment Type</th>\n",
       "      <th>Division</th>\n",
       "      <th>Department Name</th>\n",
       "      <th>Start Date</th>\n",
       "      <th>Person User Name</th>\n",
       "      <th>Email Address</th>\n",
       "      <th>Manager E-Mail Address</th>\n",
       "      <th>Record Type</th>\n",
       "    </tr>\n",
       "  </thead>\n",
       "  <tbody>\n",
       "    <tr>\n",
       "      <th>0</th>\n",
       "      <td>1001</td>\n",
       "      <td>John</td>\n",
       "      <td>Emp1</td>\n",
       "      <td>Active</td>\n",
       "      <td>Project Manager</td>\n",
       "      <td>Primary/Home Assignment</td>\n",
       "      <td>Consulting</td>\n",
       "      <td>Salesforce</td>\n",
       "      <td>2011-08-08</td>\n",
       "      <td>JOHNEMP1</td>\n",
       "      <td>John.Emp1@xyz.com</td>\n",
       "      <td>Sat.Emp5@xyz.com</td>\n",
       "      <td>XYZ Employee</td>\n",
       "    </tr>\n",
       "    <tr>\n",
       "      <th>1</th>\n",
       "      <td>1002</td>\n",
       "      <td>Kin</td>\n",
       "      <td>Emp2</td>\n",
       "      <td>Active</td>\n",
       "      <td>Developer</td>\n",
       "      <td>Primary/Home Assignment</td>\n",
       "      <td>Consulting</td>\n",
       "      <td>Salesforce</td>\n",
       "      <td>2001-12-15</td>\n",
       "      <td>KINEMP2</td>\n",
       "      <td>Kin.Emp2@xyz.com</td>\n",
       "      <td>Sat.Emp5@xyz.com</td>\n",
       "      <td>XYZ Employee</td>\n",
       "    </tr>\n",
       "    <tr>\n",
       "      <th>2</th>\n",
       "      <td>1003</td>\n",
       "      <td>Jun</td>\n",
       "      <td>Emp3</td>\n",
       "      <td>Active</td>\n",
       "      <td>Data Architect</td>\n",
       "      <td>Primary/Home Assignment</td>\n",
       "      <td>Data &amp; Analytics</td>\n",
       "      <td>AI/ML</td>\n",
       "      <td>2010-12-18</td>\n",
       "      <td>JUNEMP3</td>\n",
       "      <td>Jun.Emp3@xyz.com</td>\n",
       "      <td>Sat.Emp5@xyz.com</td>\n",
       "      <td>XYZ Employee</td>\n",
       "    </tr>\n",
       "  </tbody>\n",
       "</table>\n",
       "</div>"
      ],
      "text/plain": [
       "   Employee # First Name Last Name  Status    Position Name  \\\n",
       "0        1001       John      Emp1  Active  Project Manager   \n",
       "1        1002        Kin      Emp2  Active        Developer   \n",
       "2        1003        Jun      Emp3  Active   Data Architect   \n",
       "\n",
       "  Employee Assignment Type          Division Department Name Start Date  \\\n",
       "0  Primary/Home Assignment        Consulting      Salesforce 2011-08-08   \n",
       "1  Primary/Home Assignment        Consulting      Salesforce 2001-12-15   \n",
       "2  Primary/Home Assignment  Data & Analytics           AI/ML 2010-12-18   \n",
       "\n",
       "  Person User Name      Email Address Manager E-Mail Address   Record Type  \n",
       "0         JOHNEMP1  John.Emp1@xyz.com       Sat.Emp5@xyz.com  XYZ Employee  \n",
       "1          KINEMP2   Kin.Emp2@xyz.com       Sat.Emp5@xyz.com  XYZ Employee  \n",
       "2          JUNEMP3   Jun.Emp3@xyz.com       Sat.Emp5@xyz.com  XYZ Employee  "
      ]
     },
     "execution_count": 23,
     "metadata": {},
     "output_type": "execute_result"
    }
   ],
   "source": [
    "df_hr_staff.head(3)"
   ]
  },
  {
   "cell_type": "code",
   "execution_count": 24,
   "metadata": {},
   "outputs": [
    {
     "data": {
      "text/html": [
       "<div>\n",
       "<style scoped>\n",
       "    .dataframe tbody tr th:only-of-type {\n",
       "        vertical-align: middle;\n",
       "    }\n",
       "\n",
       "    .dataframe tbody tr th {\n",
       "        vertical-align: top;\n",
       "    }\n",
       "\n",
       "    .dataframe thead th {\n",
       "        text-align: right;\n",
       "    }\n",
       "</style>\n",
       "<table border=\"1\" class=\"dataframe\">\n",
       "  <thead>\n",
       "    <tr style=\"text-align: right;\">\n",
       "      <th></th>\n",
       "      <th>feature</th>\n",
       "      <th>record_count</th>\n",
       "      <th>unique_values</th>\n",
       "      <th>missing_records</th>\n",
       "      <th>percent_missing_records</th>\n",
       "      <th>percent_highest_columnvalue</th>\n",
       "      <th>data_type</th>\n",
       "      <th>cat_or_num</th>\n",
       "    </tr>\n",
       "  </thead>\n",
       "  <tbody>\n",
       "    <tr>\n",
       "      <th>0</th>\n",
       "      <td>Employee #</td>\n",
       "      <td>26</td>\n",
       "      <td>26</td>\n",
       "      <td>0</td>\n",
       "      <td>0.0</td>\n",
       "      <td>3.846154</td>\n",
       "      <td>int64</td>\n",
       "      <td>numerical</td>\n",
       "    </tr>\n",
       "    <tr>\n",
       "      <th>1</th>\n",
       "      <td>First Name</td>\n",
       "      <td>26</td>\n",
       "      <td>26</td>\n",
       "      <td>0</td>\n",
       "      <td>0.0</td>\n",
       "      <td>3.846154</td>\n",
       "      <td>object</td>\n",
       "      <td>categorical</td>\n",
       "    </tr>\n",
       "    <tr>\n",
       "      <th>2</th>\n",
       "      <td>Last Name</td>\n",
       "      <td>26</td>\n",
       "      <td>26</td>\n",
       "      <td>0</td>\n",
       "      <td>0.0</td>\n",
       "      <td>3.846154</td>\n",
       "      <td>object</td>\n",
       "      <td>categorical</td>\n",
       "    </tr>\n",
       "    <tr>\n",
       "      <th>3</th>\n",
       "      <td>Status</td>\n",
       "      <td>26</td>\n",
       "      <td>2</td>\n",
       "      <td>0</td>\n",
       "      <td>0.0</td>\n",
       "      <td>76.923077</td>\n",
       "      <td>object</td>\n",
       "      <td>categorical</td>\n",
       "    </tr>\n",
       "    <tr>\n",
       "      <th>4</th>\n",
       "      <td>Position Name</td>\n",
       "      <td>26</td>\n",
       "      <td>26</td>\n",
       "      <td>0</td>\n",
       "      <td>0.0</td>\n",
       "      <td>3.846154</td>\n",
       "      <td>object</td>\n",
       "      <td>categorical</td>\n",
       "    </tr>\n",
       "    <tr>\n",
       "      <th>5</th>\n",
       "      <td>Employee Assignment Type</td>\n",
       "      <td>26</td>\n",
       "      <td>1</td>\n",
       "      <td>0</td>\n",
       "      <td>0.0</td>\n",
       "      <td>100.000000</td>\n",
       "      <td>object</td>\n",
       "      <td>categorical</td>\n",
       "    </tr>\n",
       "    <tr>\n",
       "      <th>6</th>\n",
       "      <td>Division</td>\n",
       "      <td>26</td>\n",
       "      <td>5</td>\n",
       "      <td>0</td>\n",
       "      <td>0.0</td>\n",
       "      <td>57.692308</td>\n",
       "      <td>object</td>\n",
       "      <td>categorical</td>\n",
       "    </tr>\n",
       "    <tr>\n",
       "      <th>7</th>\n",
       "      <td>Department Name</td>\n",
       "      <td>26</td>\n",
       "      <td>6</td>\n",
       "      <td>0</td>\n",
       "      <td>0.0</td>\n",
       "      <td>30.769231</td>\n",
       "      <td>object</td>\n",
       "      <td>categorical</td>\n",
       "    </tr>\n",
       "    <tr>\n",
       "      <th>8</th>\n",
       "      <td>Start Date</td>\n",
       "      <td>26</td>\n",
       "      <td>26</td>\n",
       "      <td>0</td>\n",
       "      <td>0.0</td>\n",
       "      <td>3.846154</td>\n",
       "      <td>datetime64[ns]</td>\n",
       "      <td>numerical</td>\n",
       "    </tr>\n",
       "    <tr>\n",
       "      <th>9</th>\n",
       "      <td>Person User Name</td>\n",
       "      <td>26</td>\n",
       "      <td>26</td>\n",
       "      <td>0</td>\n",
       "      <td>0.0</td>\n",
       "      <td>3.846154</td>\n",
       "      <td>object</td>\n",
       "      <td>categorical</td>\n",
       "    </tr>\n",
       "    <tr>\n",
       "      <th>10</th>\n",
       "      <td>Email Address</td>\n",
       "      <td>26</td>\n",
       "      <td>26</td>\n",
       "      <td>0</td>\n",
       "      <td>0.0</td>\n",
       "      <td>3.846154</td>\n",
       "      <td>object</td>\n",
       "      <td>categorical</td>\n",
       "    </tr>\n",
       "    <tr>\n",
       "      <th>11</th>\n",
       "      <td>Manager E-Mail Address</td>\n",
       "      <td>26</td>\n",
       "      <td>6</td>\n",
       "      <td>0</td>\n",
       "      <td>0.0</td>\n",
       "      <td>30.769231</td>\n",
       "      <td>object</td>\n",
       "      <td>categorical</td>\n",
       "    </tr>\n",
       "    <tr>\n",
       "      <th>12</th>\n",
       "      <td>Record Type</td>\n",
       "      <td>26</td>\n",
       "      <td>1</td>\n",
       "      <td>0</td>\n",
       "      <td>0.0</td>\n",
       "      <td>100.000000</td>\n",
       "      <td>object</td>\n",
       "      <td>categorical</td>\n",
       "    </tr>\n",
       "  </tbody>\n",
       "</table>\n",
       "</div>"
      ],
      "text/plain": [
       "                     feature  record_count  unique_values  missing_records  \\\n",
       "0                 Employee #            26             26                0   \n",
       "1                 First Name            26             26                0   \n",
       "2                  Last Name            26             26                0   \n",
       "3                     Status            26              2                0   \n",
       "4              Position Name            26             26                0   \n",
       "5   Employee Assignment Type            26              1                0   \n",
       "6                   Division            26              5                0   \n",
       "7            Department Name            26              6                0   \n",
       "8                 Start Date            26             26                0   \n",
       "9           Person User Name            26             26                0   \n",
       "10             Email Address            26             26                0   \n",
       "11    Manager E-Mail Address            26              6                0   \n",
       "12               Record Type            26              1                0   \n",
       "\n",
       "    percent_missing_records  percent_highest_columnvalue       data_type  \\\n",
       "0                       0.0                     3.846154           int64   \n",
       "1                       0.0                     3.846154          object   \n",
       "2                       0.0                     3.846154          object   \n",
       "3                       0.0                    76.923077          object   \n",
       "4                       0.0                     3.846154          object   \n",
       "5                       0.0                   100.000000          object   \n",
       "6                       0.0                    57.692308          object   \n",
       "7                       0.0                    30.769231          object   \n",
       "8                       0.0                     3.846154  datetime64[ns]   \n",
       "9                       0.0                     3.846154          object   \n",
       "10                      0.0                     3.846154          object   \n",
       "11                      0.0                    30.769231          object   \n",
       "12                      0.0                   100.000000          object   \n",
       "\n",
       "     cat_or_num  \n",
       "0     numerical  \n",
       "1   categorical  \n",
       "2   categorical  \n",
       "3   categorical  \n",
       "4   categorical  \n",
       "5   categorical  \n",
       "6   categorical  \n",
       "7   categorical  \n",
       "8     numerical  \n",
       "9   categorical  \n",
       "10  categorical  \n",
       "11  categorical  \n",
       "12  categorical  "
      ]
     },
     "execution_count": 24,
     "metadata": {},
     "output_type": "execute_result"
    }
   ],
   "source": [
    "col_staff = df_hr_staff.columns\n",
    "col_depart = df_hr_depart.columns\n",
    "df_stats(df_hr_staff,col_staff)"
   ]
  },
  {
   "cell_type": "code",
   "execution_count": 25,
   "metadata": {},
   "outputs": [
    {
     "data": {
      "text/html": [
       "<div>\n",
       "<style scoped>\n",
       "    .dataframe tbody tr th:only-of-type {\n",
       "        vertical-align: middle;\n",
       "    }\n",
       "\n",
       "    .dataframe tbody tr th {\n",
       "        vertical-align: top;\n",
       "    }\n",
       "\n",
       "    .dataframe thead th {\n",
       "        text-align: right;\n",
       "    }\n",
       "</style>\n",
       "<table border=\"1\" class=\"dataframe\">\n",
       "  <thead>\n",
       "    <tr style=\"text-align: right;\">\n",
       "      <th></th>\n",
       "      <th>feature</th>\n",
       "      <th>record_count</th>\n",
       "      <th>unique_values</th>\n",
       "      <th>missing_records</th>\n",
       "      <th>percent_missing_records</th>\n",
       "      <th>percent_highest_columnvalue</th>\n",
       "      <th>data_type</th>\n",
       "      <th>cat_or_num</th>\n",
       "    </tr>\n",
       "  </thead>\n",
       "  <tbody>\n",
       "    <tr>\n",
       "      <th>0</th>\n",
       "      <td>Employee #</td>\n",
       "      <td>21</td>\n",
       "      <td>21</td>\n",
       "      <td>0</td>\n",
       "      <td>0.0</td>\n",
       "      <td>4.761905</td>\n",
       "      <td>int64</td>\n",
       "      <td>numerical</td>\n",
       "    </tr>\n",
       "    <tr>\n",
       "      <th>1</th>\n",
       "      <td>First Name</td>\n",
       "      <td>21</td>\n",
       "      <td>21</td>\n",
       "      <td>0</td>\n",
       "      <td>0.0</td>\n",
       "      <td>4.761905</td>\n",
       "      <td>object</td>\n",
       "      <td>categorical</td>\n",
       "    </tr>\n",
       "    <tr>\n",
       "      <th>2</th>\n",
       "      <td>Last Name</td>\n",
       "      <td>21</td>\n",
       "      <td>21</td>\n",
       "      <td>0</td>\n",
       "      <td>0.0</td>\n",
       "      <td>4.761905</td>\n",
       "      <td>object</td>\n",
       "      <td>categorical</td>\n",
       "    </tr>\n",
       "    <tr>\n",
       "      <th>3</th>\n",
       "      <td>Position</td>\n",
       "      <td>21</td>\n",
       "      <td>18</td>\n",
       "      <td>0</td>\n",
       "      <td>0.0</td>\n",
       "      <td>9.523810</td>\n",
       "      <td>object</td>\n",
       "      <td>categorical</td>\n",
       "    </tr>\n",
       "    <tr>\n",
       "      <th>4</th>\n",
       "      <td>Division</td>\n",
       "      <td>21</td>\n",
       "      <td>3</td>\n",
       "      <td>0</td>\n",
       "      <td>0.0</td>\n",
       "      <td>85.714286</td>\n",
       "      <td>object</td>\n",
       "      <td>categorical</td>\n",
       "    </tr>\n",
       "    <tr>\n",
       "      <th>5</th>\n",
       "      <td>Department Name</td>\n",
       "      <td>21</td>\n",
       "      <td>6</td>\n",
       "      <td>0</td>\n",
       "      <td>0.0</td>\n",
       "      <td>52.380952</td>\n",
       "      <td>object</td>\n",
       "      <td>categorical</td>\n",
       "    </tr>\n",
       "    <tr>\n",
       "      <th>6</th>\n",
       "      <td>Start Date</td>\n",
       "      <td>21</td>\n",
       "      <td>13</td>\n",
       "      <td>0</td>\n",
       "      <td>0.0</td>\n",
       "      <td>42.857143</td>\n",
       "      <td>datetime64[ns]</td>\n",
       "      <td>numerical</td>\n",
       "    </tr>\n",
       "    <tr>\n",
       "      <th>7</th>\n",
       "      <td>Termination Date</td>\n",
       "      <td>21</td>\n",
       "      <td>11</td>\n",
       "      <td>0</td>\n",
       "      <td>0.0</td>\n",
       "      <td>47.619048</td>\n",
       "      <td>datetime64[ns]</td>\n",
       "      <td>numerical</td>\n",
       "    </tr>\n",
       "    <tr>\n",
       "      <th>8</th>\n",
       "      <td>Person User Name</td>\n",
       "      <td>21</td>\n",
       "      <td>21</td>\n",
       "      <td>0</td>\n",
       "      <td>0.0</td>\n",
       "      <td>4.761905</td>\n",
       "      <td>object</td>\n",
       "      <td>categorical</td>\n",
       "    </tr>\n",
       "    <tr>\n",
       "      <th>9</th>\n",
       "      <td>Work Email</td>\n",
       "      <td>21</td>\n",
       "      <td>21</td>\n",
       "      <td>0</td>\n",
       "      <td>0.0</td>\n",
       "      <td>4.761905</td>\n",
       "      <td>object</td>\n",
       "      <td>categorical</td>\n",
       "    </tr>\n",
       "    <tr>\n",
       "      <th>10</th>\n",
       "      <td>Record Type</td>\n",
       "      <td>21</td>\n",
       "      <td>1</td>\n",
       "      <td>0</td>\n",
       "      <td>0.0</td>\n",
       "      <td>100.000000</td>\n",
       "      <td>object</td>\n",
       "      <td>categorical</td>\n",
       "    </tr>\n",
       "    <tr>\n",
       "      <th>11</th>\n",
       "      <td>Manager E-Mail Address</td>\n",
       "      <td>21</td>\n",
       "      <td>4</td>\n",
       "      <td>0</td>\n",
       "      <td>0.0</td>\n",
       "      <td>47.619048</td>\n",
       "      <td>object</td>\n",
       "      <td>categorical</td>\n",
       "    </tr>\n",
       "  </tbody>\n",
       "</table>\n",
       "</div>"
      ],
      "text/plain": [
       "                   feature  record_count  unique_values  missing_records  \\\n",
       "0               Employee #            21             21                0   \n",
       "1               First Name            21             21                0   \n",
       "2                Last Name            21             21                0   \n",
       "3                 Position            21             18                0   \n",
       "4                 Division            21              3                0   \n",
       "5          Department Name            21              6                0   \n",
       "6               Start Date            21             13                0   \n",
       "7         Termination Date            21             11                0   \n",
       "8         Person User Name            21             21                0   \n",
       "9               Work Email            21             21                0   \n",
       "10             Record Type            21              1                0   \n",
       "11  Manager E-Mail Address            21              4                0   \n",
       "\n",
       "    percent_missing_records  percent_highest_columnvalue       data_type  \\\n",
       "0                       0.0                     4.761905           int64   \n",
       "1                       0.0                     4.761905          object   \n",
       "2                       0.0                     4.761905          object   \n",
       "3                       0.0                     9.523810          object   \n",
       "4                       0.0                    85.714286          object   \n",
       "5                       0.0                    52.380952          object   \n",
       "6                       0.0                    42.857143  datetime64[ns]   \n",
       "7                       0.0                    47.619048  datetime64[ns]   \n",
       "8                       0.0                     4.761905          object   \n",
       "9                       0.0                     4.761905          object   \n",
       "10                      0.0                   100.000000          object   \n",
       "11                      0.0                    47.619048          object   \n",
       "\n",
       "     cat_or_num  \n",
       "0     numerical  \n",
       "1   categorical  \n",
       "2   categorical  \n",
       "3   categorical  \n",
       "4   categorical  \n",
       "5   categorical  \n",
       "6     numerical  \n",
       "7     numerical  \n",
       "8   categorical  \n",
       "9   categorical  \n",
       "10  categorical  \n",
       "11  categorical  "
      ]
     },
     "execution_count": 25,
     "metadata": {},
     "output_type": "execute_result"
    }
   ],
   "source": [
    "df_stats(df_hr_depart,col_depart)"
   ]
  },
  {
   "cell_type": "markdown",
   "metadata": {},
   "source": [
    "## Data Prep"
   ]
  },
  {
   "cell_type": "markdown",
   "metadata": {},
   "source": [
    "### Normalize Data Structures"
   ]
  },
  {
   "cell_type": "code",
   "execution_count": 26,
   "metadata": {},
   "outputs": [],
   "source": [
    "## Rename the columns \n",
    "\n",
    "col1_staff = {\n",
    " 'Employee #': 'Employee_No',\n",
    " 'First Name': 'First_Name',\n",
    " 'Last Name': 'Last_Name',\n",
    " 'Position Name': 'Position',\n",
    " 'Department Name': 'Department_Name',\n",
    " 'Start Date': 'Start_Date',\n",
    " 'Person User Name': 'Person_User_Name',\n",
    " 'Email Address': 'Work_Email',\n",
    " 'Manager E-Mail Address': 'Manage_Email',\n",
    " 'Record Type': 'Record_Type'}\n",
    "\n",
    "col2_staff = {\n",
    " 'Employee #': 'Employee_No',\n",
    " 'First Name': 'First_Name',\n",
    " 'Last Name': 'Last_Name',\n",
    " 'Department Name': 'Department_Name',\n",
    " 'Start Date': 'Start_Date',\n",
    " 'Termination Date':'Termination_Date',\n",
    " 'Person User Name': 'Person_User_Name',\n",
    " 'Work Email': 'Work_Email',\n",
    " 'Manager E-Mail Address': 'Manage_Email',\n",
    " 'Record Type': 'Record_Type'}\n",
    "\n",
    "df_hr_staff=df_hr_staff.rename(columns=col1_staff)\n",
    "df_hr_depart=df_hr_depart.rename(columns=col2_staff)"
   ]
  },
  {
   "cell_type": "code",
   "execution_count": 27,
   "metadata": {},
   "outputs": [
    {
     "name": "stdout",
     "output_type": "stream",
     "text": [
      "missing columns in Depart table:['Employee Assignment Type', 'Status']\n",
      "missing columns in Stafflist table:['Termination_Date']\n"
     ]
    }
   ],
   "source": [
    "# find the difference in the data structures\n",
    "col_staff = df_hr_staff.columns\n",
    "col_depart = df_hr_depart.columns\n",
    "diff1 = list(set(col_staff) - set(col_depart))\n",
    "diff2= list(set(col_depart) - set(col_staff))\n",
    "print(f\"missing columns in Depart table:{diff1}\")\n",
    "print(f\"missing columns in Stafflist table:{diff2}\")"
   ]
  },
  {
   "cell_type": "code",
   "execution_count": 28,
   "metadata": {},
   "outputs": [
    {
     "name": "stdout",
     "output_type": "stream",
     "text": [
      "Index(['Employee_No', 'First_Name', 'Last_Name', 'Position', 'Division',\n",
      "       'Department_Name', 'Start_Date', 'Termination_Date', 'Person_User_Name',\n",
      "       'Work_Email', 'Record_Type', 'Manage_Email', 'Employee Assignment Type',\n",
      "       'Status'],\n",
      "      dtype='object')\n",
      "Index(['Employee_No', 'First_Name', 'Last_Name', 'Status', 'Position',\n",
      "       'Employee Assignment Type', 'Division', 'Department_Name', 'Start_Date',\n",
      "       'Person_User_Name', 'Work_Email', 'Manage_Email', 'Record_Type',\n",
      "       'Termination_Date'],\n",
      "      dtype='object')\n",
      "difference in columns   :[]\n",
      "difference in columns   :[]\n"
     ]
    }
   ],
   "source": [
    "# Normalize the data strcutures \n",
    "df1 = pd.DataFrame(columns=diff1)\n",
    "df2 = pd.DataFrame(columns=diff2)\n",
    "df_hr_depart = pd.concat([df_hr_depart,df1],ignore_index=True,sort=False)\n",
    "df_hr_depart[\"Status\"]=\"Departed\"\n",
    "df_hr_staff =  pd.concat([df_hr_staff,df2],ignore_index=True,sort=False)\n",
    "print(df_hr_depart.columns)\n",
    "print(df_hr_staff.columns)\n",
    "print(f'difference in columns   :{list(set(df_hr_staff.columns)-set(df_hr_depart.columns))}')\n",
    "print(f'difference in columns   :{list(set(df_hr_depart.columns)-set(df_hr_staff.columns))}')"
   ]
  },
  {
   "cell_type": "markdown",
   "metadata": {},
   "source": [
    "### Join the datasets"
   ]
  },
  {
   "cell_type": "code",
   "execution_count": 29,
   "metadata": {},
   "outputs": [],
   "source": [
    "df_hr_staff['Employee_No'] = df_hr_staff['Employee_No'].astype(str)\n",
    "df_hr_depart['Employee_No'] = df_hr_depart['Employee_No'].astype(str)\n",
    "df_hr_staff['Employee_No'] = df_hr_staff['Employee_No'].str.strip()\n",
    "df_hr_depart['Employee_No'] = df_hr_depart['Employee_No'].str.strip()\n",
    "\n",
    "df_m = pd.merge(df_hr_staff,df_hr_depart,on='Employee_No', how='inner')"
   ]
  },
  {
   "cell_type": "markdown",
   "metadata": {},
   "source": [
    "### Rehire flag"
   ]
  },
  {
   "cell_type": "code",
   "execution_count": 30,
   "metadata": {},
   "outputs": [],
   "source": [
    "# Calculate Attribute : Rehire flag \n",
    "\n",
    "def rehireflag(t,h):\n",
    "    t = t.date()\n",
    "    h = h.date()\n",
    "    if t>=h and h != \"\":\n",
    "        r = \"Rehired\"\n",
    "    else : \n",
    "        r = \"\"\n",
    "    return r\n",
    "       \n",
    "df_m[\"Rehire_Flag\"] = df_m[[\"Start_Date_x\",\"Termination_Date_y\"]].apply(lambda z :rehireflag(*z), axis=1)"
   ]
  },
  {
   "cell_type": "code",
   "execution_count": 31,
   "metadata": {},
   "outputs": [
    {
     "data": {
      "text/html": [
       "<div>\n",
       "<style scoped>\n",
       "    .dataframe tbody tr th:only-of-type {\n",
       "        vertical-align: middle;\n",
       "    }\n",
       "\n",
       "    .dataframe tbody tr th {\n",
       "        vertical-align: top;\n",
       "    }\n",
       "\n",
       "    .dataframe thead th {\n",
       "        text-align: right;\n",
       "    }\n",
       "</style>\n",
       "<table border=\"1\" class=\"dataframe\">\n",
       "  <thead>\n",
       "    <tr style=\"text-align: right;\">\n",
       "      <th></th>\n",
       "      <th>Employee_No</th>\n",
       "      <th>First_Name_x</th>\n",
       "      <th>Start_Date_x</th>\n",
       "      <th>Termination_Date_y</th>\n",
       "      <th>Rehire_Flag</th>\n",
       "    </tr>\n",
       "  </thead>\n",
       "  <tbody>\n",
       "    <tr>\n",
       "      <th>0</th>\n",
       "      <td>1014.0</td>\n",
       "      <td>Sara</td>\n",
       "      <td>2015-01-04</td>\n",
       "      <td>2014-01-30</td>\n",
       "      <td>Rehired</td>\n",
       "    </tr>\n",
       "    <tr>\n",
       "      <th>1</th>\n",
       "      <td>1015.0</td>\n",
       "      <td>Pal</td>\n",
       "      <td>2019-10-13</td>\n",
       "      <td>2018-01-30</td>\n",
       "      <td>Rehired</td>\n",
       "    </tr>\n",
       "    <tr>\n",
       "      <th>2</th>\n",
       "      <td>1016.0</td>\n",
       "      <td>Kar</td>\n",
       "      <td>2008-04-20</td>\n",
       "      <td>2007-01-30</td>\n",
       "      <td>Rehired</td>\n",
       "    </tr>\n",
       "  </tbody>\n",
       "</table>\n",
       "</div>"
      ],
      "text/plain": [
       "  Employee_No First_Name_x Start_Date_x Termination_Date_y Rehire_Flag\n",
       "0      1014.0         Sara   2015-01-04         2014-01-30     Rehired\n",
       "1      1015.0          Pal   2019-10-13         2018-01-30     Rehired\n",
       "2      1016.0          Kar   2008-04-20         2007-01-30     Rehired"
      ]
     },
     "execution_count": 31,
     "metadata": {},
     "output_type": "execute_result"
    }
   ],
   "source": [
    "lst = [\"Employee_No\",\"First_Name_x\",\"Start_Date_x\",\"Termination_Date_y\",\"Rehire_Flag\"]\n",
    "df_m[lst].head(3)"
   ]
  },
  {
   "cell_type": "code",
   "execution_count": 32,
   "metadata": {},
   "outputs": [
    {
     "data": {
      "text/plain": [
       "(5, 5)"
      ]
     },
     "execution_count": 32,
     "metadata": {},
     "output_type": "execute_result"
    }
   ],
   "source": [
    "df_m[lst].shape"
   ]
  },
  {
   "cell_type": "markdown",
   "metadata": {},
   "source": [
    "### Final Depart List"
   ]
  },
  {
   "cell_type": "code",
   "execution_count": 33,
   "metadata": {},
   "outputs": [],
   "source": [
    "df_rehire = pd.DataFrame(df_m[[\"Employee_No\",\"Rehire_Flag\"]])\n",
    "df_fdepart = pd.merge(df_hr_depart,df_rehire, on='Employee_No', how='left')"
   ]
  },
  {
   "cell_type": "code",
   "execution_count": 34,
   "metadata": {},
   "outputs": [
    {
     "data": {
      "text/plain": [
       "(16, 15)"
      ]
     },
     "execution_count": 34,
     "metadata": {},
     "output_type": "execute_result"
    }
   ],
   "source": [
    "q = (df_fdepart['Rehire_Flag']!=\"Rehired\")\n",
    "#df_final_departlist= df_fdepart.drop(df_fdepart[['Employee Assignment Type','Rehire_Flag']],axis=1)\n",
    "df_final_departlist= df_fdepart[q]\n",
    "df_final_departlist.shape"
   ]
  },
  {
   "cell_type": "code",
   "execution_count": 35,
   "metadata": {},
   "outputs": [
    {
     "data": {
      "text/plain": [
       "Index(['Employee_No', 'First_Name', 'Last_Name', 'Position', 'Division',\n",
       "       'Department_Name', 'Start_Date', 'Termination_Date', 'Person_User_Name',\n",
       "       'Work_Email', 'Record_Type', 'Manage_Email', 'Employee Assignment Type',\n",
       "       'Status', 'Rehire_Flag'],\n",
       "      dtype='object')"
      ]
     },
     "execution_count": 35,
     "metadata": {},
     "output_type": "execute_result"
    }
   ],
   "source": [
    "df_final_departlist.columns"
   ]
  },
  {
   "cell_type": "markdown",
   "metadata": {},
   "source": [
    "### Final Staff list"
   ]
  },
  {
   "cell_type": "code",
   "execution_count": 36,
   "metadata": {},
   "outputs": [
    {
     "data": {
      "text/plain": [
       "(26, 15)"
      ]
     },
     "execution_count": 36,
     "metadata": {},
     "output_type": "execute_result"
    }
   ],
   "source": [
    "df_fstafflist = pd.merge(df_hr_staff,df_rehire, on='Employee_No', how='left')\n",
    "#q = (df_fstafflist['Rehire_Flag']==\"Rehired\")\n",
    "df_fstafflist.shape"
   ]
  },
  {
   "cell_type": "code",
   "execution_count": 37,
   "metadata": {},
   "outputs": [
    {
     "data": {
      "text/plain": [
       "Index(['Employee_No', 'First_Name', 'Last_Name', 'Status', 'Position',\n",
       "       'Employee Assignment Type', 'Division', 'Department_Name', 'Start_Date',\n",
       "       'Person_User_Name', 'Work_Email', 'Manage_Email', 'Record_Type',\n",
       "       'Termination_Date', 'Rehire_Flag'],\n",
       "      dtype='object')"
      ]
     },
     "execution_count": 37,
     "metadata": {},
     "output_type": "execute_result"
    }
   ],
   "source": [
    "df_fstafflist.columns"
   ]
  },
  {
   "cell_type": "markdown",
   "metadata": {},
   "source": [
    "## Output"
   ]
  },
  {
   "cell_type": "markdown",
   "metadata": {},
   "source": [
    "#### Final HR Refined dataset (includes active + depart)"
   ]
  },
  {
   "cell_type": "code",
   "execution_count": 38,
   "metadata": {},
   "outputs": [
    {
     "data": {
      "text/plain": [
       "(42, 15)"
      ]
     },
     "execution_count": 38,
     "metadata": {},
     "output_type": "execute_result"
    }
   ],
   "source": [
    "df = pd.concat([df_fstafflist, df_final_departlist],sort=False)\n",
    "df.shape"
   ]
  },
  {
   "cell_type": "code",
   "execution_count": 39,
   "metadata": {},
   "outputs": [],
   "source": [
    "with pd.ExcelWriter(results_hr_path+f\"\\df_final_hr_dataset_{run_date}.xlsx\") as writer:\n",
    "    df.to_excel(writer, sheet_name=\"df_final_hr_dataset\")"
   ]
  },
  {
   "cell_type": "markdown",
   "metadata": {},
   "source": [
    "## Analysis"
   ]
  },
  {
   "cell_type": "code",
   "execution_count": 40,
   "metadata": {},
   "outputs": [
    {
     "data": {
      "text/html": [
       "<div>\n",
       "<style scoped>\n",
       "    .dataframe tbody tr th:only-of-type {\n",
       "        vertical-align: middle;\n",
       "    }\n",
       "\n",
       "    .dataframe tbody tr th {\n",
       "        vertical-align: top;\n",
       "    }\n",
       "\n",
       "    .dataframe thead th {\n",
       "        text-align: right;\n",
       "    }\n",
       "</style>\n",
       "<table border=\"1\" class=\"dataframe\">\n",
       "  <thead>\n",
       "    <tr style=\"text-align: right;\">\n",
       "      <th></th>\n",
       "      <th>Employee_No</th>\n",
       "      <th>Rehire_Flag</th>\n",
       "    </tr>\n",
       "    <tr>\n",
       "      <th>Status</th>\n",
       "      <th></th>\n",
       "      <th></th>\n",
       "    </tr>\n",
       "  </thead>\n",
       "  <tbody>\n",
       "    <tr>\n",
       "      <th>Active</th>\n",
       "      <td>20</td>\n",
       "      <td>5</td>\n",
       "    </tr>\n",
       "    <tr>\n",
       "      <th>Departed</th>\n",
       "      <td>16</td>\n",
       "      <td>0</td>\n",
       "    </tr>\n",
       "    <tr>\n",
       "      <th>Leave</th>\n",
       "      <td>6</td>\n",
       "      <td>0</td>\n",
       "    </tr>\n",
       "  </tbody>\n",
       "</table>\n",
       "</div>"
      ],
      "text/plain": [
       "          Employee_No  Rehire_Flag\n",
       "Status                            \n",
       "Active             20            5\n",
       "Departed           16            0\n",
       "Leave               6            0"
      ]
     },
     "execution_count": 40,
     "metadata": {},
     "output_type": "execute_result"
    }
   ],
   "source": [
    "# Classify by rehire flag\n",
    "df[['Employee_No','Status','Rehire_Flag']].groupby('Status').count()"
   ]
  }
 ],
 "metadata": {
  "kernelspec": {
   "display_name": "Python 3",
   "language": "python",
   "name": "python3"
  },
  "language_info": {
   "codemirror_mode": {
    "name": "ipython",
    "version": 3
   },
   "file_extension": ".py",
   "mimetype": "text/x-python",
   "name": "python",
   "nbconvert_exporter": "python",
   "pygments_lexer": "ipython3",
   "version": "3.7.3"
  }
 },
 "nbformat": 4,
 "nbformat_minor": 2
}
